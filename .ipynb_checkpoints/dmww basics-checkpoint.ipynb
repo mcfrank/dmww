{
 "metadata": {
  "name": ""
 },
 "nbformat": 3,
 "nbformat_minor": 0,
 "worksheets": [
  {
   "cells": [
    {
     "cell_type": "heading",
     "level": 1,
     "metadata": {},
     "source": [
      "DM wurwur debugging"
     ]
    },
    {
     "cell_type": "code",
     "collapsed": false,
     "input": [
      "from numpy import *\n",
      "from random import *\n",
      "from dmww_classes import *\n",
      "\n",
      "seed(1) # for debugging"
     ],
     "language": "python",
     "metadata": {},
     "outputs": [],
     "prompt_number": 3
    },
    {
     "cell_type": "heading",
     "level": 2,
     "metadata": {},
     "source": [
      "Preliminaries"
     ]
    },
    {
     "cell_type": "markdown",
     "metadata": {},
     "source": [
      "Each wurwur (words world model) instance depends on a world, a corpus, and a lexicon - learned by the model - that connects the two. "
     ]
    },
    {
     "cell_type": "code",
     "collapsed": false,
     "input": [
      "w = World(n_words=8,n_objs=8)\n",
      "w.show()\n",
      "            \n",
      "c = Corpus(world=w, n_sents=20, n_per_sent=2)\n",
      "c.sampleSents()\n",
      "c.show()"
     ],
     "language": "python",
     "metadata": {},
     "outputs": [
      {
       "output_type": "stream",
       "stream": "stdout",
       "text": [
        "n_words = 8\n",
        "n_objs = 8\n",
        "w: [1 5] o: [1 5]\n",
        "w: [6 1] o: [6 1]\n",
        "w: [3 7] o: [3 7]\n",
        "w: [5 7] o: [5 7]\n",
        "w: [0 7] o: [0 7]\n",
        "w: [6 3] o: [6 3]\n",
        "w: [6 0] o: [6 0]\n",
        "w: [3 5] o: [3 5]\n",
        "w: [1 6] o: [1 6]\n",
        "w: [7 0] o: [7 0]\n",
        "w: [0 3] o: [0 3]\n",
        "w: [7 2] o: [7 2]\n",
        "w: [1 2] o: [1 2]\n",
        "w: [0 1] o: [0 1]\n",
        "w: [3 7] o: [3 7]\n",
        "w: [1 7] o: [1 7]\n",
        "w: [1 3] o: [1 3]\n",
        "w: [2 0] o: [2 0]\n",
        "w: [6 3] o: [6 3]\n",
        "w: [5 1] o: [5 1]\n"
       ]
      }
     ],
     "prompt_number": 4
    },
    {
     "cell_type": "markdown",
     "metadata": {},
     "source": [
      "Check the lexicon counts via co-occurrence:"
     ]
    },
    {
     "cell_type": "code",
     "collapsed": false,
     "input": [
      "l = CoocLexicon()\n",
      "l.learnLex(w,c)\n",
      "l.show()"
     ],
     "language": "python",
     "metadata": {},
     "outputs": [
      {
       "output_type": "stream",
       "stream": "stdout",
       "text": [
        "cooccurrence matrix:\n",
        "[[ 6.  1.  1.  1.  0.  0.  1.  2.]\n",
        " [ 1.  8.  1.  1.  0.  2.  2.  1.]\n",
        " [ 1.  1.  3.  0.  0.  0.  0.  1.]\n",
        " [ 1.  1.  0.  7.  0.  1.  2.  2.]\n",
        " [ 0.  0.  0.  0.  0.  0.  0.  0.]\n",
        " [ 0.  2.  0.  1.  0.  4.  0.  1.]\n",
        " [ 1.  2.  0.  2.  0.  0.  5.  0.]\n",
        " [ 2.  1.  1.  2.  0.  1.  0.  7.]]\n"
       ]
      }
     ],
     "prompt_number": 5
    },
    {
     "cell_type": "markdown",
     "metadata": {},
     "source": [
      "Now try this with the Gibbs sampler (the actual model):"
     ]
    },
    {
     "cell_type": "code",
     "collapsed": false,
     "input": [
      "l = GibbsLexicon()\n",
      "p = Params(n_samps=10,\n",
      "           alpha_r=.1,\n",
      "           alpha_nr=10,\n",
      "           empty_intent=.0001,\n",
      "           no_ref_word=.000001)\n",
      "l.learnLex(w,c,p)\n",
      "l.show()"
     ],
     "language": "python",
     "metadata": {},
     "outputs": [
      {
       "output_type": "stream",
       "stream": "stdout",
       "text": [
        "cooccurrence matrix:\n",
        "[[ 0.  0.  0.  0.  0.  0.  1.  0.]\n",
        " [ 0.  7.  0.  0.  0.  0.  0.  0.]\n",
        " [ 0.  0.  3.  0.  0.  0.  0.  0.]\n",
        " [ 0.  0.  0.  3.  0.  0.  0.  0.]\n",
        " [ 0.  0.  0.  0.  0.  0.  0.  0.]\n",
        " [ 0.  0.  0.  0.  0.  1.  0.  0.]\n",
        " [ 0.  0.  0.  2.  0.  0.  0.  0.]\n",
        " [ 0.  0.  0.  0.  0.  0.  0.  3.]]\n",
        "[ 6.  1.  0.  2.  0.  3.  4.  4.]\n"
       ]
      }
     ],
     "prompt_number": 6
    },
    {
     "cell_type": "code",
     "collapsed": false,
     "input": [
      "import matplotlib.pyplot as plt\n",
      "import prettyplotlib as ppl\n",
      "import matplotlib.gridspec as gridspec\n",
      "\n",
      "fig = plt.figure()\n",
      "gs = gridspec.GridSpec(2, 1,height_ratios=[8,1])\n",
      "ax1 = plt.subplot(gs[0])\n",
      "ax2 = plt.subplot(gs[1])\n",
      "\n",
      "w_labels = \"\".join(map(str, range(0, w.n_words)))\n",
      "o_labels = \"\".join(map(str, range(0, w.n_objs)))\n",
      "\n",
      "#referential lexicon\n",
      "ppl.pcolormesh(fig, ax1, l.ref, xticklabels = w_labels, yticklabels = o_labels) \n",
      "ax1.set_ylabel(\"objects\")\n",
      "ax1.set_title('main lexicon', fontsize=14)\n",
      "\n",
      "#non-referential lexicon\n",
      "ppl.pcolormesh(fig, ax2, array([l.non_ref]), xticklabels = w_labels)\n",
      "ax2.set_xlabel(\"words\")\n",
      "ax2.set_title('non-referential lexicon', fontsize=14)\n",
      "ax2.set_yticks([])\n",
      "plt.tight_layout(pad = 2)\n",
      "\n"
     ],
     "language": "python",
     "metadata": {},
     "outputs": [
      {
       "metadata": {},
       "output_type": "display_data",
       "png": "[encoded data removed]",
       "text": [
        "<matplotlib.figure.Figure at 0x106701590>"
       ]
      }
     ],
     "prompt_number": 7
    }
   ],
   "metadata": {}
  }
 ]
}