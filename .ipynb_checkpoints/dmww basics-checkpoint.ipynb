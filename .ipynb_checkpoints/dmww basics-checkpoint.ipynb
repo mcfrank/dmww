{
 "metadata": {
  "name": ""
 },
 "nbformat": 3,
 "nbformat_minor": 0,
 "worksheets": [
  {
   "cells": [
    {
     "cell_type": "heading",
     "level": 1,
     "metadata": {},
     "source": [
      "DM wurwur debugging"
     ]
    },
    {
     "cell_type": "code",
     "collapsed": false,
     "input": [
      "import numpy as np\n",
      "from random import *\n",
      "from dmww_classes import *\n",
      "from plotting_helper import *\n",
      "\n",
      "seed(1) # for debugging"
     ],
     "language": "python",
     "metadata": {},
     "outputs": [],
     "prompt_number": 1
    },
    {
     "cell_type": "heading",
     "level": 2,
     "metadata": {},
     "source": [
      "Model with toy corpus"
     ]
    },
    {
     "cell_type": "markdown",
     "metadata": {},
     "source": [
      "Each wurwur (words world model) instance depends on a world, a corpus, and a lexicon - learned by the model - that connects the two. "
     ]
    },
    {
     "cell_type": "code",
     "collapsed": false,
     "input": [
      "w = World(n_words=8,n_objs=8)\n",
      "w.show()\n",
      "            \n",
      "c = Corpus(world=w, n_sents=20, n_per_sent=2)\n",
      "c.sampleSents()\n",
      "c.show()"
     ],
     "language": "python",
     "metadata": {},
     "outputs": [
      {
       "metadata": {},
       "output_type": "pyout",
       "prompt_number": 2,
       "text": [
        "[[array([1, 5]), array([1, 5])],\n",
        " [array([6, 1]), array([6, 1])],\n",
        " [array([3, 7]), array([3, 7])],\n",
        " [array([5, 7]), array([5, 7])],\n",
        " [array([0, 7]), array([0, 7])],\n",
        " [array([6, 3]), array([6, 3])],\n",
        " [array([6, 0]), array([6, 0])],\n",
        " [array([3, 5]), array([3, 5])],\n",
        " [array([1, 6]), array([1, 6])],\n",
        " [array([7, 0]), array([7, 0])],\n",
        " [array([0, 3]), array([0, 3])],\n",
        " [array([7, 2]), array([7, 2])],\n",
        " [array([1, 2]), array([1, 2])],\n",
        " [array([0, 1]), array([0, 1])],\n",
        " [array([3, 7]), array([3, 7])],\n",
        " [array([1, 7]), array([1, 7])],\n",
        " [array([1, 3]), array([1, 3])],\n",
        " [array([2, 0]), array([2, 0])],\n",
        " [array([6, 3]), array([6, 3])],\n",
        " [array([5, 1]), array([5, 1])]]"
       ]
      }
     ],
     "prompt_number": 2
    },
    {
     "cell_type": "markdown",
     "metadata": {},
     "source": [
      "Check the lexicon counts via co-occurrence:"
     ]
    },
    {
     "cell_type": "code",
     "collapsed": false,
     "input": [
      "l = CoocLexicon()\n",
      "l.learnLex(w,c)\n",
      "lexplot(l, w)"
     ],
     "language": "python",
     "metadata": {},
     "outputs": [
      {
       "metadata": {},
       "output_type": "display_data",
       "png": "[encoded data removed]",
       "text": [
        "<matplotlib.figure.Figure at 0x10697bed0>"
       ]
      }
     ],
     "prompt_number": 4
    },
    {
     "cell_type": "markdown",
     "metadata": {},
     "source": [
      "Now try this with the Gibbs sampler (the actual model):"
     ]
    },
    {
     "cell_type": "code",
     "collapsed": false,
     "input": [
      "l = GibbsLexicon()\n",
      "p = Params(n_samps=10,\n",
      "           alpha_r=.1,\n",
      "           alpha_nr=10,\n",
      "           empty_intent=.0001,\n",
      "           no_ref_word=.000001)\n",
      "l.learnLex(w,c,p)\n",
      "lexplot(l, w)"
     ],
     "language": "python",
     "metadata": {},
     "outputs": [
      {
       "metadata": {},
       "output_type": "display_data",
       "png": "[encoded data removed]",
       "text": [
        "<matplotlib.figure.Figure at 0x106939150>"
       ]
      }
     ],
     "prompt_number": 5
    },
    {
     "cell_type": "heading",
     "level": 2,
     "metadata": {},
     "source": [
      "Model with real corpus"
     ]
    },
    {
     "cell_type": "code",
     "collapsed": false,
     "input": [
      "w = World(corpus = 'corpora/corpus_toy.csv')\n",
      "w.show()\n",
      "\n",
      "c = Corpus(world=w, corpus = 'corpora/corpus_toy.csv')\n",
      "c.show()\n",
      "#c.sents"
     ],
     "language": "python",
     "metadata": {},
     "outputs": [
      {
       "output_type": "stream",
       "stream": "stdout",
       "text": [
        "n_words = 14\n",
        "n_objs = 6\n",
        "w: [ 3  4  2 11  5 10  7] o: [3 5 0 2 4]\n",
        "w: [13  0  4  1  9  8] o: [3 5 0 2 4]\n",
        "w: [ 3  2 12  6] o: [3 5 0 2 1 4]\n"
       ]
      }
     ],
     "prompt_number": 6
    },
    {
     "cell_type": "code",
     "collapsed": false,
     "input": [
      "# this doesn't work, yet -- Maybe because the number of words and objects vary?\n",
      "l = GibbsLexicon()\n",
      "p = Params(n_samps=10,\n",
      "           alpha_r=.1,\n",
      "           alpha_nr=10,\n",
      "           empty_intent=.0001,\n",
      "           no_ref_word=.000001)\n",
      "l.learnLex(w,c,p)\n",
      "lexplot(l, w)"
     ],
     "language": "python",
     "metadata": {},
     "outputs": [
      {
       "ename": "IndexError",
       "evalue": "index 101 is out of bounds for axis 0 with size 24",
       "output_type": "pyerr",
       "traceback": [
        "\u001b[0;31m---------------------------------------------------------------------------\u001b[0m\n\u001b[0;31mIndexError\u001b[0m                                Traceback (most recent call last)",
        "\u001b[0;32m<ipython-input-4-0b0912a4d5d8>\u001b[0m in \u001b[0;36m<module>\u001b[0;34m()\u001b[0m\n\u001b[1;32m      6\u001b[0m            \u001b[0mempty_intent\u001b[0m\u001b[0;34m=\u001b[0m\u001b[0;36m.0001\u001b[0m\u001b[0;34m,\u001b[0m\u001b[0;34m\u001b[0m\u001b[0m\n\u001b[1;32m      7\u001b[0m            no_ref_word=.000001)\n\u001b[0;32m----> 8\u001b[0;31m \u001b[0ml\u001b[0m\u001b[0;34m.\u001b[0m\u001b[0mlearnLex\u001b[0m\u001b[0;34m(\u001b[0m\u001b[0mw\u001b[0m\u001b[0;34m,\u001b[0m\u001b[0mc\u001b[0m\u001b[0;34m,\u001b[0m\u001b[0mp\u001b[0m\u001b[0;34m)\u001b[0m\u001b[0;34m\u001b[0m\u001b[0m\n\u001b[0m\u001b[1;32m      9\u001b[0m \u001b[0mlexplot\u001b[0m\u001b[0;34m(\u001b[0m\u001b[0ml\u001b[0m\u001b[0;34m,\u001b[0m \u001b[0mw\u001b[0m\u001b[0;34m)\u001b[0m\u001b[0;34m\u001b[0m\u001b[0m\n",
        "\u001b[0;32m/Documents/GRADUATE_SCHOOL/Projects/dm_wurwur/dmww/dmww_classes.py\u001b[0m in \u001b[0;36mlearnLex\u001b[0;34m(self, world, corpus, params)\u001b[0m\n\u001b[1;32m    155\u001b[0m \u001b[0;34m\u001b[0m\u001b[0m\n\u001b[1;32m    156\u001b[0m         \u001b[0mwin_score\u001b[0m \u001b[0;34m=\u001b[0m \u001b[0mnans\u001b[0m\u001b[0;34m(\u001b[0m\u001b[0mparams\u001b[0m\u001b[0;34m.\u001b[0m\u001b[0mn_samps\u001b[0m\u001b[0;34m)\u001b[0m\u001b[0;34m\u001b[0m\u001b[0m\n\u001b[0;32m--> 157\u001b[0;31m         \u001b[0mself\u001b[0m\u001b[0;34m.\u001b[0m\u001b[0minitLex\u001b[0m\u001b[0;34m(\u001b[0m\u001b[0mcorpus\u001b[0m\u001b[0;34m,\u001b[0m \u001b[0mworld\u001b[0m\u001b[0;34m,\u001b[0m \u001b[0mparams\u001b[0m\u001b[0;34m)\u001b[0m\u001b[0;34m\u001b[0m\u001b[0m\n\u001b[0m\u001b[1;32m    158\u001b[0m \u001b[0;34m\u001b[0m\u001b[0m\n\u001b[1;32m    159\u001b[0m         \u001b[0;32mfor\u001b[0m \u001b[0ms\u001b[0m \u001b[0;32min\u001b[0m \u001b[0mrange\u001b[0m\u001b[0;34m(\u001b[0m\u001b[0mparams\u001b[0m\u001b[0;34m.\u001b[0m\u001b[0mn_samps\u001b[0m\u001b[0;34m)\u001b[0m\u001b[0;34m:\u001b[0m\u001b[0;34m\u001b[0m\u001b[0m\n",
        "\u001b[0;32m/Documents/GRADUATE_SCHOOL/Projects/dm_wurwur/dmww/dmww_classes.py\u001b[0m in \u001b[0;36minitLex\u001b[0;34m(self, corpus, world, params)\u001b[0m\n\u001b[1;32m    335\u001b[0m             \u001b[0;31m# update lexicon dirichlets based on random init\u001b[0m\u001b[0;34m\u001b[0m\u001b[0;34m\u001b[0m\u001b[0m\n\u001b[1;32m    336\u001b[0m             self.ref[corpus.sents[i][0][self.oi[i] == self.intent_obj[i]],\n\u001b[0;32m--> 337\u001b[0;31m                     corpus.sents[i][1][self.wi[i] == self.ref_word[i]]] += 1\n\u001b[0m\u001b[1;32m    338\u001b[0m             \u001b[0mself\u001b[0m\u001b[0;34m.\u001b[0m\u001b[0mnon_ref\u001b[0m\u001b[0;34m[\u001b[0m\u001b[0mcorpus\u001b[0m\u001b[0;34m.\u001b[0m\u001b[0msents\u001b[0m\u001b[0;34m[\u001b[0m\u001b[0mi\u001b[0m\u001b[0;34m]\u001b[0m\u001b[0;34m[\u001b[0m\u001b[0;36m1\u001b[0m\u001b[0;34m]\u001b[0m\u001b[0;34m[\u001b[0m\u001b[0mself\u001b[0m\u001b[0;34m.\u001b[0m\u001b[0mwi\u001b[0m\u001b[0;34m[\u001b[0m\u001b[0mi\u001b[0m\u001b[0;34m]\u001b[0m \u001b[0;34m!=\u001b[0m \u001b[0mself\u001b[0m\u001b[0;34m.\u001b[0m\u001b[0mref_word\u001b[0m\u001b[0;34m[\u001b[0m\u001b[0mi\u001b[0m\u001b[0;34m]\u001b[0m\u001b[0;34m]\u001b[0m\u001b[0;34m]\u001b[0m \u001b[0;34m+=\u001b[0m \u001b[0;36m1\u001b[0m\u001b[0;34m\u001b[0m\u001b[0m\n\u001b[1;32m    339\u001b[0m \u001b[0;34m\u001b[0m\u001b[0m\n",
        "\u001b[0;31mIndexError\u001b[0m: index 101 is out of bounds for axis 0 with size 24"
       ]
      }
     ],
     "prompt_number": 4
    }
   ],
   "metadata": {}
  }
 ]
}