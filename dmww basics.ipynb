{
 "metadata": {
  "name": ""
 },
 "nbformat": 3,
 "nbformat_minor": 0,
 "worksheets": [
  {
   "cells": [
    {
     "cell_type": "heading",
     "level": 1,
     "metadata": {},
     "source": [
      "DM wurwur debugging"
     ]
    },
    {
     "cell_type": "code",
     "collapsed": false,
     "input": [
      "% load_ext autoreload\n",
      "% autoreload 2\n",
      "\n",
      "import numpy as np\n",
      "from random import *\n",
      "from dmww_classes import *\n",
      "from sampling_helper import *\n",
      "\n",
      "\n",
      "seed(1) # for debugging"
     ],
     "language": "python",
     "metadata": {},
     "outputs": [
      {
       "output_type": "stream",
       "stream": "stdout",
       "text": [
        "The autoreload extension is already loaded. To reload it, use:\n",
        "  %reload_ext autoreload\n"
       ]
      }
     ],
     "prompt_number": 3
    },
    {
     "cell_type": "heading",
     "level": 2,
     "metadata": {},
     "source": [
      "Model with toy corpus"
     ]
    },
    {
     "cell_type": "markdown",
     "metadata": {},
     "source": [
      "Each wurwur (words world model) instance depends on a world, a corpus, and a lexicon - learned by the model - that connects the two. "
     ]
    },
    {
     "cell_type": "code",
     "collapsed": false,
     "input": [
      "w = World(n_words=8,n_objs=8)\n",
      "w.show()\n",
      "            \n",
      "c = Corpus(world=w, n_sents=40, n_per_sent=2)\n",
      "c.show()"
     ],
     "language": "python",
     "metadata": {},
     "outputs": [
      {
       "output_type": "stream",
       "stream": "stdout",
       "text": [
        "n_objs = 8\n",
        "n_words = 8\n",
        "o: [1 5] w: [1 5]\n",
        "o: [6 1] w: [6 1]\n",
        "o: [3 7] w: [3 7]\n",
        "o: [5 7] w: [5 7]\n",
        "o: [0 7] w: [0 7]\n",
        "o: [6 3] w: [6 3]\n",
        "o: [6 0] w: [6 0]\n",
        "o: [3 5] w: [3 5]\n",
        "o: [1 6] w: [1 6]\n",
        "o: [7 0] w: [7 0]\n",
        "o: [0 3] w: [0 3]\n",
        "o: [7 2] w: [7 2]\n",
        "o: [1 2] w: [1 2]\n",
        "o: [0 1] w: [0 1]\n",
        "o: [3 7] w: [3 7]\n",
        "o: [1 7] w: [1 7]\n",
        "o: [1 3] w: [1 3]\n",
        "o: [2 0] w: [2 0]\n",
        "o: [6 3] w: [6 3]\n",
        "o: [5 1] w: [5 1]\n",
        "o: [7 6] w: [7 6]\n",
        "o: [0 2] w: [0 2]\n",
        "o: [5 4] w: [5 4]\n",
        "o: [7 2] w: [7 2]\n",
        "o: [6 4] w: [6 4]\n",
        "o: [2 4] w: [2 4]\n",
        "o: [7 5] w: [7 5]\n",
        "o: [4 7] w: [4 7]\n",
        "o: [0 1] w: [0 1]\n",
        "o: [6 2] w: [6 2]\n",
        "o: [1 3] w: [1 3]\n",
        "o: [5 4] w: [5 4]\n",
        "o: [2 3] w: [2 3]\n",
        "o: [4 5] w: [4 5]\n",
        "o: [4 2] w: [4 2]\n",
        "o: [3 0] w: [3 0]\n",
        "o: [0 4] w: [0 4]\n",
        "o: [7 4] w: [7 4]\n",
        "o: [3 1] w: [3 1]\n",
        "o: [4 6] w: [4 6]\n"
       ]
      }
     ],
     "prompt_number": 4
    },
    {
     "cell_type": "markdown",
     "metadata": {},
     "source": [
      "Check the lexicon counts via co-occurrence:"
     ]
    },
    {
     "cell_type": "code",
     "collapsed": false,
     "input": [
      "p = Params()\n",
      "\n",
      "l = Lexicon(c,p)\n",
      "l.learn_lex_cooc(c)\n",
      "l.plot_lex(w)"
     ],
     "language": "python",
     "metadata": {},
     "outputs": [
      {
       "metadata": {},
       "output_type": "display_data",
       "png": "[encoded data removed]",
       "text": [
        "<matplotlib.figure.Figure at 0x10e31a590>"
       ]
      }
     ],
     "prompt_number": 14
    },
    {
     "cell_type": "markdown",
     "metadata": {},
     "source": [
      "Now try this with the Gibbs sampler (the actual model):"
     ]
    },
    {
     "cell_type": "code",
     "collapsed": false,
     "input": [
      "p = Params(n_samps=20,\n",
      "           alpha_r=.1,\n",
      "           alpha_nr=10,\n",
      "           empty_intent=.0001,\n",
      "           n_hypermoves=5)\n",
      "\n",
      "l = Lexicon(c,p,verbose=0,hyper_inf=True)\n",
      "l.learn_lex_gibbs(c, p)\n",
      "l.plot_lex(w, certainwords = 0)\n",
      "l.ref"
     ],
     "language": "python",
     "metadata": {},
     "outputs": [
      {
       "output_type": "stream",
       "stream": "stdout",
       "text": [
        "\n",
        "\n",
        ".."
       ]
      },
      {
       "output_type": "stream",
       "stream": "stdout",
       "text": [
        "..."
       ]
      },
      {
       "output_type": "stream",
       "stream": "stdout",
       "text": [
        "..."
       ]
      },
      {
       "output_type": "stream",
       "stream": "stdout",
       "text": [
        "..."
       ]
      },
      {
       "output_type": "stream",
       "stream": "stdout",
       "text": [
        "..."
       ]
      },
      {
       "output_type": "stream",
       "stream": "stdout",
       "text": [
        "..."
       ]
      },
      {
       "output_type": "stream",
       "stream": "stdout",
       "text": [
        "..\n",
        "--- score full lex ---"
       ]
      },
      {
       "output_type": "stream",
       "stream": "stdout",
       "text": [
        "\n",
        "[[ 5.  0.  0.  0.  0.  0.  0.  0.]\n",
        " [ 0.  7.  0.  0.  0.  0.  0.  0.]\n",
        " [ 0.  0.  4.  0.  0.  0.  0.  0.]\n",
        " [ 0.  0.  0.  4.  0.  0.  0.  0.]\n",
        " [ 0.  0.  0.  0.  5.  0.  0.  0.]\n",
        " [ 0.  0.  0.  0.  0.  2.  0.  0.]\n",
        " [ 0.  0.  0.  0.  0.  0.  7.  0.]\n",
        " [ 0.  0.  0.  0.  0.  0.  0.  6.]]\n",
        " [ 5.  4.  5.  7.  5.  6.  2.  6.]\n",
        "counts: 80\n",
        "    intent obj: [0 1 1 1 0 0 1 0 1 0 1 1 0 0 1 0 0 0 0 0 1 1 1 0 0 0 1 0 1 0 1 1 1 0 0 1 0\n",
        " 0 1 1]\n",
        "    ref word: [0 1 1 1 0 0 1 0 1 0 1 1 0 0 1 0 0 0 0 0 1 1 1 0 0 0 1 0 1 0 1 1 1 0 0 1 0\n",
        " 0 1 1]\n",
        "    intent obj prob: [-0.7 -0.7 -0.7 -0.7 -0.7 -0.7 -0.7 -0.7 -0.7 -0.7 -0.7 -0.7 -0.7 -0.7 -0.7\n",
        " -0.7 -0.7 -0.7 -0.7 -0.7 -0.7 -0.7 -0.7 -0.7 -0.7 -0.7 -0.7 -0.7 -0.7 -0.7\n",
        " -0.7 -0.7 -0.7 -0.7 -0.7 -0.7 -0.7 -0.7 -0.7 -0.7]\n",
        "full score: r -17.3, nr -90.5, i -27.7, p -2.9,  total: -138.5\n",
        "\n",
        " *** average sample time: 0.044 sec\n"
       ]
      },
      {
       "metadata": {},
       "output_type": "pyout",
       "prompt_number": 17,
       "text": [
        "array([[ 5.,  0.,  0.,  0.,  0.,  0.,  0.,  0.],\n",
        "       [ 0.,  7.,  0.,  0.,  0.,  0.,  0.,  0.],\n",
        "       [ 0.,  0.,  4.,  0.,  0.,  0.,  0.,  0.],\n",
        "       [ 0.,  0.,  0.,  4.,  0.,  0.,  0.,  0.],\n",
        "       [ 0.,  0.,  0.,  0.,  5.,  0.,  0.,  0.],\n",
        "       [ 0.,  0.,  0.,  0.,  0.,  2.,  0.,  0.],\n",
        "       [ 0.,  0.,  0.,  0.,  0.,  0.,  7.,  0.],\n",
        "       [ 0.,  0.,  0.,  0.,  0.,  0.,  0.,  6.]])"
       ]
      },
      {
       "metadata": {},
       "output_type": "display_data",
       "png": "[encoded data removed]",
       "text": [
        "<matplotlib.figure.Figure at 0x10d0bb590>"
       ]
      }
     ],
     "prompt_number": 17
    },
    {
     "cell_type": "heading",
     "level": 2,
     "metadata": {},
     "source": [
      "Model with mini \"real\" corpus"
     ]
    },
    {
     "cell_type": "code",
     "collapsed": false,
     "input": [
      "w = World(corpus = 'corpora/corpus_toy.csv')\n",
      "w.show()\n",
      "\n",
      "c = Corpus(world=w, corpus = 'corpora/corpus_toy.csv')\n",
      "c.show()\n"
     ],
     "language": "python",
     "metadata": {},
     "outputs": [
      {
       "output_type": "stream",
       "stream": "stdout",
       "text": [
        "n_objs = 6\n",
        "n_words = 14\n",
        "o: [3 5 0 2 4] w: [ 3  4  2 11  5 10  7]\n",
        "o: [3 5 0 2 4] w: [13  0  4  1  9  8]\n",
        "o: [3 5 0 2 1 4] w: [ 3  2 12  6]\n"
       ]
      }
     ],
     "prompt_number": 18
    },
    {
     "cell_type": "code",
     "collapsed": false,
     "input": [
      "l = Lexicon(c,p)\n",
      "l.learn_lex_cooc(c)\n",
      "l.show()"
     ],
     "language": "python",
     "metadata": {},
     "outputs": [
      {
       "output_type": "stream",
       "stream": "stdout",
       "text": [
        "[[ 1.  1.  2.  2.  2.  1.  1.  1.  1.  1.  1.  1.  1.  1.]\n",
        " [ 0.  0.  1.  1.  0.  0.  1.  0.  0.  0.  0.  0.  1.  0.]\n",
        " [ 1.  1.  2.  2.  2.  1.  1.  1.  1.  1.  1.  1.  1.  1.]\n",
        " [ 1.  1.  2.  2.  2.  1.  1.  1.  1.  1.  1.  1.  1.  1.]\n",
        " [ 1.  1.  2.  2.  2.  1.  1.  1.  1.  1.  1.  1.  1.  1.]\n",
        " [ 1.  1.  2.  2.  2.  1.  1.  1.  1.  1.  1.  1.  1.  1.]]\n",
        "nr: [ 0.  0.  0.  0.  0.  0.  0.  0.  0.  0.  0.  0.  0.  0.]\n"
       ]
      }
     ],
     "prompt_number": 19
    },
    {
     "cell_type": "code",
     "collapsed": false,
     "input": [
      "l = Lexicon(c,p,verbose=0,hyper_inf=True)\n",
      "l.learn_lex_gibbs(c, p)\n",
      "l.plot_lex(w, certainwords = 0)\n",
      "l.params.show()"
     ],
     "language": "python",
     "metadata": {},
     "outputs": [
      {
       "output_type": "stream",
       "stream": "stdout",
       "text": [
        "\n",
        "\n",
        "..."
       ]
      },
      {
       "output_type": "stream",
       "stream": "stdout",
       "text": [
        "...."
       ]
      },
      {
       "output_type": "stream",
       "stream": "stdout",
       "text": [
        "...."
       ]
      },
      {
       "output_type": "stream",
       "stream": "stdout",
       "text": [
        "...."
       ]
      },
      {
       "output_type": "stream",
       "stream": "stdout",
       "text": [
        "...."
       ]
      },
      {
       "output_type": "stream",
       "stream": "stdout",
       "text": [
        "\n",
        "--- score full lex ---\n",
        "[[ 0.  0.  0.  0.  0.  0.  0.  0.  0.  0.  0.  0.  0.  0.]\n",
        " [ 0.  0.  0.  0.  0.  0.  0.  0.  0.  0.  0.  0.  0.  0.]\n",
        " [ 0.  0.  0.  0.  0.  0.  0.  0.  0.  0.  0.  0.  0.  0.]\n",
        " [ 0.  0.  0.  0.  0.  0.  0.  0.  0.  0.  0.  0.  1.  0.]\n",
        " [ 0.  0.  0.  0.  0.  0.  0.  0.  0.  0.  0.  0.  0.  1.]\n",
        " [ 0.  0.  0.  0.  0.  1.  0.  0.  0.  0.  0.  0.  0.  0.]]\n",
        " [ 1.  1.  2.  2.  2.  0.  1.  1.  1.  1.  1.  1.  0.  0.]\n",
        "counts: 17\n",
        "    intent obj: [1 4 0]\n",
        "    ref word: [4 0 2]\n",
        "    intent obj prob: [-1.6 -1.6 -1.8]\n",
        "full score: r -7.9, nr -44.1, i -5.0, p -3.2,  total: -60.2\n",
        "\n",
        " *** average sample time: 0.022 sec\n",
        "intent_hp_b: 1.0000"
       ]
      },
      {
       "output_type": "stream",
       "stream": "stdout",
       "text": [
        "\n",
        "intent_hp_a: 1.0000\n",
        "n_particles: 1.0000\n",
        "empty_intent: 0.0001\n",
        "alpha_nr_hp: 2.0000\n",
        "alpha_r: 0.1191\n",
        "n_samps: 20.0000\n",
        "alpha_nr: 4.5804\n",
        "alpha_r_hp: 1.0000\n",
        "n_hypermoves: 5.0000\n"
       ]
      },
      {
       "metadata": {},
       "output_type": "display_data",
       "png": "[encoded data removed]",
       "text": [
        "<matplotlib.figure.Figure at 0x10b865a50>"
       ]
      }
     ],
     "prompt_number": 22
    },
    {
     "cell_type": "heading",
     "level": 2,
     "metadata": {},
     "source": [
      "Model with full-scale real corpus"
     ]
    },
    {
     "cell_type": "code",
     "collapsed": false,
     "input": [
      "corpusfile = 'corpora/corpus.csv'\n",
      "w = World(corpus=corpusfile)\n",
      "w.show()\n",
      "\n",
      "c = Corpus(world=w, corpus=corpusfile)"
     ],
     "language": "python",
     "metadata": {},
     "outputs": [
      {
       "output_type": "stream",
       "stream": "stdout",
       "text": [
        "n_objs = 23\n",
        "n_words = 420\n"
       ]
      }
     ],
     "prompt_number": 23
    },
    {
     "cell_type": "code",
     "collapsed": false,
     "input": [
      "p = Params(n_samps=100,\n",
      "           alpha_r=.1,\n",
      "           alpha_nr=10,\n",
      "           empty_intent=.0001,\n",
      "           n_hypermoves=5)\n",
      "\n",
      "l = Lexicon(c,p,verbose=0,hyper_inf=True)\n",
      "l.learn_lex_gibbs(c, p)\n",
      "l.plot_lex(w, certainwords = 0)\n",
      "l.ref"
     ],
     "language": "python",
     "metadata": {},
     "outputs": [
      {
       "output_type": "stream",
       "stream": "stdout",
       "text": [
        "\n",
        "\n",
        "."
       ]
      },
      {
       "output_type": "stream",
       "stream": "stdout",
       "text": [
        ".."
       ]
      },
      {
       "output_type": "stream",
       "stream": "stdout",
       "text": [
        ".."
       ]
      },
      {
       "output_type": "stream",
       "stream": "stdout",
       "text": [
        ".."
       ]
      },
      {
       "output_type": "stream",
       "stream": "stdout",
       "text": [
        ".."
       ]
      },
      {
       "output_type": "stream",
       "stream": "stdout",
       "text": [
        ".."
       ]
      },
      {
       "output_type": "stream",
       "stream": "stdout",
       "text": [
        ".."
       ]
      },
      {
       "output_type": "stream",
       "stream": "stdout",
       "text": [
        ".."
       ]
      },
      {
       "output_type": "stream",
       "stream": "stdout",
       "text": [
        ".."
       ]
      },
      {
       "output_type": "stream",
       "stream": "stdout",
       "text": [
        ".."
       ]
      },
      {
       "output_type": "stream",
       "stream": "stdout",
       "text": [
        ".."
       ]
      }
     ],
     "prompt_number": "*"
    },
    {
     "cell_type": "code",
     "collapsed": false,
     "input": [
      "for o in range(w.n_objs):\n",
      "    wd = where(l.ref[o,:] == max(l.ref[o,:]))\n",
      "    print \"o: %s, w: %s\" % (w.objs_dict[o][0], w.words_dict[wd[0][0]][0])"
     ],
     "language": "python",
     "metadata": {},
     "outputs": []
    },
    {
     "cell_type": "heading",
     "level": 2,
     "metadata": {},
     "source": [
      "Gold standard comparision"
     ]
    },
    {
     "cell_type": "markdown",
     "metadata": {},
     "source": [
      "Note that f-score here is assessed via ANY non-zero counts. \n",
      "\n",
      "We should think about the best way to do this for corpora"
     ]
    },
    {
     "cell_type": "code",
     "collapsed": false,
     "input": [
      "corpusfile = 'corpora/gold_standard.csv'\n",
      "c_gs = Corpus(world=w, corpus = corpusfile)\n",
      "get_f(l.ref, c_gs)"
     ],
     "language": "python",
     "metadata": {},
     "outputs": []
    },
    {
     "cell_type": "code",
     "collapsed": false,
     "input": [],
     "language": "python",
     "metadata": {},
     "outputs": []
    }
   ],
   "metadata": {}
  }
 ]
}