{
 "metadata": {
  "name": ""
 },
 "nbformat": 3,
 "nbformat_minor": 0,
 "worksheets": [
  {
   "cells": [
    {
     "cell_type": "heading",
     "level": 1,
     "metadata": {},
     "source": [
      "DM wurwur debugging"
     ]
    },
    {
     "cell_type": "code",
     "collapsed": false,
     "input": [
      "from numpy import *\n",
      "from random import *\n",
      "from dmww_classes import *\n",
      "\n",
      "seed(1) # for debugging"
     ],
     "language": "python",
     "metadata": {},
     "outputs": [],
     "prompt_number": 1
    },
    {
     "cell_type": "heading",
     "level": 2,
     "metadata": {},
     "source": [
      "Preliminaries"
     ]
    },
    {
     "cell_type": "markdown",
     "metadata": {},
     "source": [
      "Each wurwur (words world model) instance depends on a world, a corpus, and a lexicon - learned by the model - that connects the two. "
     ]
    },
    {
     "cell_type": "code",
     "collapsed": false,
     "input": [
      "w = World(n_words=8,n_objs=8)\n",
      "w.show()\n",
      "            \n",
      "c = Corpus(world=w, n_sents=30, n_per_sent=2)\n",
      "c.sampleSents()\n",
      "c.show()"
     ],
     "language": "python",
     "metadata": {},
     "outputs": [
      {
       "output_type": "stream",
       "stream": "stdout",
       "text": [
        "n_words = 8\n",
        "n_objs = 8\n",
        "w: [0 7] o: [0 7]\n",
        "w: [7 2] o: [7 2]\n",
        "w: [4 3] o: [4 3]\n",
        "w: [2 0] o: [2 0]\n",
        "w: [7 6] o: [7 6]\n",
        "w: [7 0] o: [7 0]\n",
        "w: [1 4] o: [1 4]\n",
        "w: [7 3] o: [7 3]\n",
        "w: [5 4] o: [5 4]\n",
        "w: [2 3] o: [2 3]\n",
        "w: [2 1] o: [2 1]\n",
        "w: [0 1] o: [0 1]\n",
        "w: [7 3] o: [7 3]\n",
        "w: [5 4] o: [5 4]\n",
        "w: [7 2] o: [7 2]\n",
        "w: [2 7] o: [2 7]\n",
        "w: [2 5] o: [2 5]\n",
        "w: [7 2] o: [7 2]\n",
        "w: [2 3] o: [2 3]\n",
        "w: [4 7] o: [4 7]\n",
        "w: [1 0] o: [1 0]\n",
        "w: [1 0] o: [1 0]\n",
        "w: [4 0] o: [4 0]\n",
        "w: [0 4] o: [0 4]\n",
        "w: [2 5] o: [2 5]\n",
        "w: [3 6] o: [3 6]\n",
        "w: [1 3] o: [1 3]\n",
        "w: [6 0] o: [6 0]\n",
        "w: [7 1] o: [7 1]\n",
        "w: [6 7] o: [6 7]\n"
       ]
      }
     ],
     "prompt_number": 5
    },
    {
     "cell_type": "markdown",
     "metadata": {},
     "source": [
      "Check the lexicon counts via co-occurrence:"
     ]
    },
    {
     "cell_type": "code",
     "collapsed": false,
     "input": [
      "l = CoocLexicon()\n",
      "l.learnLex(w,c)\n",
      "l.show()"
     ],
     "language": "python",
     "metadata": {},
     "outputs": [
      {
       "output_type": "stream",
       "stream": "stdout",
       "text": [
        "cooccurrence matrix:\n",
        "[[  9.   3.   1.   0.   2.   0.   1.   2.]\n",
        " [  3.   7.   1.   1.   1.   0.   0.   1.]\n",
        " [  1.   1.  10.   2.   0.   2.   0.   4.]\n",
        " [  0.   1.   2.   7.   1.   0.   1.   2.]\n",
        " [  2.   1.   0.   1.   7.   2.   0.   1.]\n",
        " [  0.   0.   2.   0.   2.   4.   0.   0.]\n",
        " [  1.   0.   0.   1.   0.   0.   4.   2.]\n",
        " [  2.   1.   4.   2.   1.   0.   2.  12.]]\n"
       ]
      }
     ],
     "prompt_number": 6
    },
    {
     "cell_type": "markdown",
     "metadata": {},
     "source": [
      "Now try this with the Gibbs sampler (the actual model):"
     ]
    },
    {
     "cell_type": "code",
     "collapsed": false,
     "input": [
      "l = GibbsLexicon()\n",
      "p = Params(n_samps=100,\n",
      "           alpha_r=.1,\n",
      "           alpha_nr=10,\n",
      "           empty_intent=.0001,\n",
      "           no_ref_word=.000001)\n",
      "l.learnLex(w,c,p)\n",
      "l.show()"
     ],
     "language": "python",
     "metadata": {},
     "outputs": [
      {
       "output_type": "stream",
       "stream": "stdout",
       "text": [
        "cooccurrence matrix:\n",
        "[[ 4.  0.  0.  0.  0.  0.  0.  0.]\n",
        " [ 0.  4.  0.  0.  0.  0.  0.  0.]\n",
        " [ 0.  0.  0.  0.  0.  0.  0.  3.]\n",
        " [ 0.  0.  0.  6.  0.  0.  0.  0.]\n",
        " [ 0.  0.  0.  0.  5.  0.  0.  0.]\n",
        " [ 0.  0.  0.  0.  0.  2.  0.  0.]\n",
        " [ 0.  0.  0.  0.  0.  0.  0.  1.]\n",
        " [ 0.  0.  0.  0.  0.  0.  0.  5.]]\n",
        "[  5.   3.  10.   1.   2.   2.   4.   3.]\n"
       ]
      }
     ],
     "prompt_number": 8
    },
    {
     "cell_type": "code",
     "collapsed": false,
     "input": [],
     "language": "python",
     "metadata": {},
     "outputs": []
    }
   ],
   "metadata": {}
  }
 ]
}