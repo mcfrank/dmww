{
 "metadata": {
  "name": ""
 },
 "nbformat": 3,
 "nbformat_minor": 0,
 "worksheets": [
  {
   "cells": [
    {
     "cell_type": "heading",
     "level": 1,
     "metadata": {},
     "source": [
      "DM wurwur debugging"
     ]
    },
    {
     "cell_type": "code",
     "collapsed": false,
     "input": [
      "% load_ext autoreload\n",
      "% autoreload 2\n",
      "\n",
      "import numpy as np\n",
      "from random import *\n",
      "from dmww_classes import *\n",
      "from plotting_helper import *\n",
      "\n",
      "seed(1) # for debugging"
     ],
     "language": "python",
     "metadata": {},
     "outputs": [],
     "prompt_number": 1
    },
    {
     "cell_type": "heading",
     "level": 2,
     "metadata": {},
     "source": [
      "Model with toy corpus"
     ]
    },
    {
     "cell_type": "markdown",
     "metadata": {},
     "source": [
      "Each wurwur (words world model) instance depends on a world, a corpus, and a lexicon - learned by the model - that connects the two. "
     ]
    },
    {
     "cell_type": "code",
     "collapsed": false,
     "input": [
      "w = World(n_words=8,n_objs=8)\n",
      "w.show()\n",
      "            \n",
      "c = Corpus(world=w, n_sents=20, n_per_sent=2)\n",
      "c.sample_sents()\n",
      "c.show()"
     ],
     "language": "python",
     "metadata": {},
     "outputs": [
      {
       "output_type": "stream",
       "stream": "stdout",
       "text": [
        "n_objs = 8\n",
        "n_words = 8\n",
        "o: [1 5] w: [1 5]\n",
        "o: [6 1] w: [6 1]\n",
        "o: [3 7] w: [3 7]\n",
        "o: [5 7] w: [5 7]\n",
        "o: [0 7] w: [0 7]\n",
        "o: [6 3] w: [6 3]\n",
        "o: [6 0] w: [6 0]\n",
        "o: [3 5] w: [3 5]\n",
        "o: [1 6] w: [1 6]\n",
        "o: [7 0] w: [7 0]\n",
        "o: [0 3] w: [0 3]\n",
        "o: [7 2] w: [7 2]\n",
        "o: [1 2] w: [1 2]\n",
        "o: [0 1] w: [0 1]\n",
        "o: [3 7] w: [3 7]\n",
        "o: [1 7] w: [1 7]\n",
        "o: [1 3] w: [1 3]\n",
        "o: [2 0] w: [2 0]\n",
        "o: [6 3] w: [6 3]\n",
        "o: [5 1] w: [5 1]\n"
       ]
      }
     ],
     "prompt_number": 2
    },
    {
     "cell_type": "markdown",
     "metadata": {},
     "source": [
      "Check the lexicon counts via co-occurrence:"
     ]
    },
    {
     "cell_type": "code",
     "collapsed": false,
     "input": [
      "l = CoocLexicon(world=w)\n",
      "l.show()\n",
      "l.learn_lex(c)\n",
      "lexplot(l, w)"
     ],
     "language": "python",
     "metadata": {},
     "outputs": [
      {
       "output_type": "stream",
       "stream": "stdout",
       "text": [
        "cooccurrence matrix:\n",
        "[[ 0.  0.  0.  0.  0.  0.  0.  0.]\n",
        " [ 0.  0.  0.  0.  0.  0.  0.  0.]\n",
        " [ 0.  0.  0.  0.  0.  0.  0.  0.]\n",
        " [ 0.  0.  0.  0.  0.  0.  0.  0.]\n",
        " [ 0.  0.  0.  0.  0.  0.  0.  0.]\n",
        " [ 0.  0.  0.  0.  0.  0.  0.  0.]\n",
        " [ 0.  0.  0.  0.  0.  0.  0.  0.]\n",
        " [ 0.  0.  0.  0.  0.  0.  0.  0.]]\n"
       ]
      },
      {
       "metadata": {},
       "output_type": "display_data",
       "png": "[encoded data removed]",
       "text": [
        "<matplotlib.figure.Figure at 0x10cef25d0>"
       ]
      }
     ],
     "prompt_number": 3
    },
    {
     "cell_type": "markdown",
     "metadata": {},
     "source": [
      "Now try this with the Gibbs sampler (the actual model):"
     ]
    },
    {
     "cell_type": "code",
     "collapsed": false,
     "input": [
      "p = Params(n_samps=20,\n",
      "           alpha_r=.1,\n",
      "           alpha_nr=10,\n",
      "           empty_intent=.0001,\n",
      "           no_ref_word=.000001,\n",
      "           n_hypermoves=5)\n",
      "\n",
      "l = GibbsLexicon(c,p,verbose=0,hyper_inf=True)\n",
      "l.learn_lex(c, p)\n",
      "lexplot(l, w)"
     ],
     "language": "python",
     "metadata": {},
     "outputs": [
      {
       "output_type": "stream",
       "stream": "stdout",
       "text": [
        "\n",
        "\n",
        "."
       ]
      },
      {
       "output_type": "stream",
       "stream": "stdout",
       "text": [
        ".."
       ]
      },
      {
       "output_type": "stream",
       "stream": "stdout",
       "text": [
        ".."
       ]
      },
      {
       "output_type": "stream",
       "stream": "stdout",
       "text": [
        ".."
       ]
      },
      {
       "output_type": "stream",
       "stream": "stdout",
       "text": [
        ".."
       ]
      },
      {
       "output_type": "stream",
       "stream": "stdout",
       "text": [
        ".."
       ]
      },
      {
       "output_type": "stream",
       "stream": "stdout",
       "text": [
        ".."
       ]
      },
      {
       "output_type": "stream",
       "stream": "stdout",
       "text": [
        ".."
       ]
      },
      {
       "output_type": "stream",
       "stream": "stdout",
       "text": [
        ".."
       ]
      },
      {
       "output_type": "stream",
       "stream": "stdout",
       "text": [
        ".."
       ]
      },
      {
       "metadata": {},
       "output_type": "display_data",
       "png": "[encoded data removed]",
       "text": [
        "<matplotlib.figure.Figure at 0x10d1917d0>"
       ]
      }
     ],
     "prompt_number": 4
    },
    {
     "cell_type": "heading",
     "level": 2,
     "metadata": {},
     "source": [
      "Model with mini \"real\" corpus"
     ]
    },
    {
     "cell_type": "code",
     "collapsed": false,
     "input": [
      "w = World(corpus = 'corpora/corpus_toy.csv')\n",
      "w.show()\n",
      "\n",
      "c = Corpus(world=w, corpus = 'corpora/corpus_toy.csv')\n",
      "c.show()\n"
     ],
     "language": "python",
     "metadata": {},
     "outputs": [
      {
       "output_type": "stream",
       "stream": "stdout",
       "text": [
        "n_objs = 14\n",
        "n_words = 6\n",
        "o: [ 3  4  2 11  5 10  7] w: [3 5 0 2 4]\n",
        "o: [13  0  4  1  9  8] w: [3 5 0 2 4]\n",
        "o: [ 3  2 12  6] w: [3 5 0 2 1 4]\n"
       ]
      }
     ],
     "prompt_number": 5
    },
    {
     "cell_type": "code",
     "collapsed": false,
     "input": [
      "l = CoocLexicon(w)\n",
      "l.learn_lex(c)\n",
      "l.show()"
     ],
     "language": "python",
     "metadata": {},
     "outputs": [
      {
       "output_type": "stream",
       "stream": "stdout",
       "text": [
        "cooccurrence matrix:\n",
        "[[ 1.  0.  1.  1.  1.  1.]\n",
        " [ 1.  0.  1.  1.  1.  1.]\n",
        " [ 2.  1.  2.  2.  2.  2.]\n",
        " [ 2.  1.  2.  2.  2.  2.]\n",
        " [ 2.  0.  2.  2.  2.  2.]\n",
        " [ 1.  0.  1.  1.  1.  1.]\n",
        " [ 1.  1.  1.  1.  1.  1.]\n",
        " [ 1.  0.  1.  1.  1.  1.]\n",
        " [ 1.  0.  1.  1.  1.  1.]\n",
        " [ 1.  0.  1.  1.  1.  1.]\n",
        " [ 1.  0.  1.  1.  1.  1.]\n",
        " [ 1.  0.  1.  1.  1.  1.]\n",
        " [ 1.  1.  1.  1.  1.  1.]\n",
        " [ 1.  0.  1.  1.  1.  1.]]\n"
       ]
      }
     ],
     "prompt_number": 7
    },
    {
     "cell_type": "code",
     "collapsed": false,
     "input": [
      "p = Params(n_samps=10,\n",
      "           alpha_r=.1,\n",
      "           alpha_nr=10,\n",
      "           empty_intent=.0001,\n",
      "           no_ref_word=.000001,\n",
      "           n_hypermoves=5)\n",
      "\n",
      "l = GibbsLexicon(c, p,\n",
      "                 verbose=0,\n",
      "                 hyper_inf=True)\n",
      "\n",
      "l.learn_lex(c,p)\n",
      "lexplot(l,w)\n",
      "l.params.show()"
     ],
     "language": "python",
     "metadata": {},
     "outputs": [
      {
       "output_type": "stream",
       "stream": "stdout",
       "text": [
        "\n",
        "\n",
        "."
       ]
      },
      {
       "output_type": "stream",
       "stream": "stdout",
       "text": [
        ".."
       ]
      },
      {
       "output_type": "stream",
       "stream": "stdout",
       "text": [
        ".."
       ]
      },
      {
       "output_type": "stream",
       "stream": "stdout",
       "text": [
        ".."
       ]
      },
      {
       "output_type": "stream",
       "stream": "stdout",
       "text": [
        ".."
       ]
      },
      {
       "output_type": "stream",
       "stream": "stdout",
       "text": [
        "intent_hp_b: 1.0\n",
        "intent_hp_a: 1.0\n",
        "empty_intent: 0.0\n",
        "no_ref_word: 0.0\n",
        "alpha_nr_hp: 2.0\n",
        "alpha_r: 4.43\n",
        "n_samps: 10.0\n",
        "alpha_nr: 4.55\n",
        "alpha_r_hp: 1.0\n",
        "n_hypermoves: 5.0\n"
       ]
      },
      {
       "metadata": {},
       "output_type": "display_data",
       "png": "[encoded data removed]",
       "text": [
        "<matplotlib.figure.Figure at 0x10d18bad0>"
       ]
      }
     ],
     "prompt_number": 10
    },
    {
     "cell_type": "heading",
     "level": 2,
     "metadata": {},
     "source": [
      "Model with full-scale real corpus"
     ]
    },
    {
     "cell_type": "code",
     "collapsed": false,
     "input": [
      "corpusfile = 'corpora/corpus.csv'\n",
      "w = World(corpus=corpusfile)\n",
      "w.show()\n",
      "\n",
      "c = Corpus(world=w, corpus=corpusfile)\n",
      "\n",
      "p = Params(n_samps=1,\n",
      "           alpha_r=.1,\n",
      "           alpha_nr=10,\n",
      "           empty_intent=.0001,\n",
      "           no_ref_word=.000001,\n",
      "           n_hypermoves=5)\n",
      "\n",
      "l = GibbsLexicon(c, p,\n",
      "                 verbose=0,\n",
      "                 hyper_inf=True)\n",
      "\n",
      "l.learn_lex(c,p)\n",
      "lexplot(l,w)\n",
      "l.params.show()"
     ],
     "language": "python",
     "metadata": {},
     "outputs": [
      {
       "output_type": "stream",
       "stream": "stdout",
       "text": [
        "n_objs = 420\n",
        "n_words = 24\n",
        "\n"
       ]
      },
      {
       "output_type": "stream",
       "stream": "stdout",
       "text": [
        "\n",
        "intent_hp_b: 1.0"
       ]
      },
      {
       "output_type": "stream",
       "stream": "stdout",
       "text": [
        "\n",
        "intent_hp_a: 1.0\n",
        "empty_intent: 0.0\n",
        "no_ref_word: 0.0\n",
        "alpha_nr_hp: 2.0\n",
        "alpha_r: 1.07\n",
        "n_samps: 1.0\n",
        "alpha_nr: 10.72\n",
        "alpha_r_hp: 1.0\n",
        "n_hypermoves: 5.0\n"
       ]
      },
      {
       "metadata": {},
       "output_type": "display_data",
       "png": "[encoded data removed]",
       "text": [
        "<matplotlib.figure.Figure at 0x10d0f52d0>"
       ]
      }
     ],
     "prompt_number": 13
    },
    {
     "cell_type": "code",
     "collapsed": false,
     "input": [
      "w = World(corpus=corpusfile)\n",
      "\n",
      "for o in range(w.n_objs):\n",
      "    print l.ref[o,:]\n",
      "    wd = where(l.ref[o,:] == max(l.ref[o,:]))\n",
      "    print wd\n",
      "    print \"object: %s, word: %s\" % (w.objs_dict[o][0], w.words_dict[wd[0]][0])"
     ],
     "language": "python",
     "metadata": {},
     "outputs": [
      {
       "ename": "TypeError",
       "evalue": "only integer arrays with one element can be converted to an index",
       "output_type": "pyerr",
       "traceback": [
        "\u001b[0;31m---------------------------------------------------------------------------\u001b[0m\n\u001b[0;31mTypeError\u001b[0m                                 Traceback (most recent call last)",
        "\u001b[0;32m<ipython-input-26-17e6e77c66bb>\u001b[0m in \u001b[0;36m<module>\u001b[0;34m()\u001b[0m\n\u001b[1;32m      5\u001b[0m     \u001b[0mwd\u001b[0m \u001b[0;34m=\u001b[0m \u001b[0mwhere\u001b[0m\u001b[0;34m(\u001b[0m\u001b[0ml\u001b[0m\u001b[0;34m.\u001b[0m\u001b[0mref\u001b[0m\u001b[0;34m[\u001b[0m\u001b[0mo\u001b[0m\u001b[0;34m,\u001b[0m\u001b[0;34m:\u001b[0m\u001b[0;34m]\u001b[0m \u001b[0;34m==\u001b[0m \u001b[0mmax\u001b[0m\u001b[0;34m(\u001b[0m\u001b[0ml\u001b[0m\u001b[0;34m.\u001b[0m\u001b[0mref\u001b[0m\u001b[0;34m[\u001b[0m\u001b[0mo\u001b[0m\u001b[0;34m,\u001b[0m\u001b[0;34m:\u001b[0m\u001b[0;34m]\u001b[0m\u001b[0;34m)\u001b[0m\u001b[0;34m)\u001b[0m\u001b[0;34m\u001b[0m\u001b[0m\n\u001b[1;32m      6\u001b[0m     \u001b[0;32mprint\u001b[0m \u001b[0mwd\u001b[0m\u001b[0;34m\u001b[0m\u001b[0m\n\u001b[0;32m----> 7\u001b[0;31m     \u001b[0;32mprint\u001b[0m \u001b[0;34m\"object: %s, word: %s\"\u001b[0m \u001b[0;34m%\u001b[0m \u001b[0;34m(\u001b[0m\u001b[0mw\u001b[0m\u001b[0;34m.\u001b[0m\u001b[0mobjs_dict\u001b[0m\u001b[0;34m[\u001b[0m\u001b[0mo\u001b[0m\u001b[0;34m]\u001b[0m\u001b[0;34m[\u001b[0m\u001b[0;36m0\u001b[0m\u001b[0;34m]\u001b[0m\u001b[0;34m,\u001b[0m \u001b[0mw\u001b[0m\u001b[0;34m.\u001b[0m\u001b[0mwords_dict\u001b[0m\u001b[0;34m[\u001b[0m\u001b[0mwd\u001b[0m\u001b[0;34m[\u001b[0m\u001b[0;36m0\u001b[0m\u001b[0;34m]\u001b[0m\u001b[0;34m]\u001b[0m\u001b[0;34m[\u001b[0m\u001b[0;36m0\u001b[0m\u001b[0;34m]\u001b[0m\u001b[0;34m)\u001b[0m\u001b[0;34m\u001b[0m\u001b[0m\n\u001b[0m",
        "\u001b[0;31mTypeError\u001b[0m: only integer arrays with one element can be converted to an index"
       ]
      },
      {
       "output_type": "stream",
       "stream": "stdout",
       "text": [
        "[ 0.  0.  0.  0.  0.  0.  0.  0.  0.  0.  0.  0.  0.  0.  0.  0.  0.  0.\n",
        "  0.  0.  0.  0.  0.  1.]\n",
        "(array([23]),)\n",
        "object: rattle, word: what\n",
        "[ 0.  0.  0.  0.  0.  1.  0.  0.  0.  0.  0.  0.  0.  0.  0.  0.  0.  0.\n",
        "  0.  0.  0.  0.  0.  0.]\n",
        "(array([5]),)\n",
        "object: mirror, word: to\n",
        "[ 0.  0.  0.  1.  0.  3.  0.  0.  0.  0.  0.  0.  0.  0.  0.  0.  0.  0.\n",
        "  0.  0.  0.  0.  0.  0.]\n",
        "(array([5]),)\n",
        "object: pig, word: to\n",
        "[ 0.  0.  0.  0.  0.  0.  0.  0.  0.  0.  0.  0.  0.  0.  0.  0.  0.  0.\n",
        "  0.  0.  0.  0.  0.  0.]\n",
        "(array([ 0,  1,  2,  3,  4,  5,  6,  7,  8,  9, 10, 11, 12, 13, 14, 15, 16,\n",
        "       17, 18, 19, 20, 21, 22, 23]),)\n"
       ]
      }
     ],
     "prompt_number": 26
    },
    {
     "cell_type": "code",
     "collapsed": false,
     "input": [],
     "language": "python",
     "metadata": {},
     "outputs": []
    }
   ],
   "metadata": {}
  }
 ]
}